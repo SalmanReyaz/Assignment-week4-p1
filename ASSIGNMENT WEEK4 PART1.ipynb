{
 "cells": [
  {
   "cell_type": "markdown",
   "id": "4ad839b0",
   "metadata": {},
   "source": [
    "# Q1, Create a vehicle class with an init method having instance variables as name_of_vehicle, max_speed\n",
    "## and average_of_vehicle."
   ]
  },
  {
   "cell_type": "code",
   "execution_count": 39,
   "id": "8dfddc2c",
   "metadata": {},
   "outputs": [],
   "source": [
    "class vehicle:\n",
    "\n",
    "    \n",
    "     def __init__(self,name_of_vehicle,max_speed,average_of_vehicle):\n",
    "        self.name_of_vehicle = name_of_vehicle\n",
    "        self.max_speed = max_speed\n",
    "        self.average_of_vehicle = average_of_vehicle\n",
    "        \n",
    "        \n",
    "        \n",
    "     def return_vehicle_details(self):\n",
    "        return self.name_of_vehicle,self.max_speed,self.average_of_vehicle\n"
   ]
  },
  {
   "cell_type": "code",
   "execution_count": 40,
   "id": "34955634",
   "metadata": {},
   "outputs": [],
   "source": [
    "car1=vehicle(\"toyota\",200,45)"
   ]
  },
  {
   "cell_type": "code",
   "execution_count": 41,
   "id": "45bdad77",
   "metadata": {},
   "outputs": [
    {
     "data": {
      "text/plain": [
       "('toyota', 200, 45)"
      ]
     },
     "execution_count": 41,
     "metadata": {},
     "output_type": "execute_result"
    }
   ],
   "source": [
    "car1.return_vehicle_details()"
   ]
  },
  {
   "cell_type": "code",
   "execution_count": 42,
   "id": "b9397bfe",
   "metadata": {},
   "outputs": [],
   "source": [
    "abc = vehicle(\"sedan\",180,30)"
   ]
  },
  {
   "cell_type": "code",
   "execution_count": 43,
   "id": "887432fc",
   "metadata": {},
   "outputs": [
    {
     "data": {
      "text/plain": [
       "('sedan', 180, 30)"
      ]
     },
     "execution_count": 43,
     "metadata": {},
     "output_type": "execute_result"
    }
   ],
   "source": [
    "abc.return_vehicle_details()"
   ]
  },
  {
   "cell_type": "markdown",
   "id": "4129e17b",
   "metadata": {},
   "source": [
    "     \n",
    "__Q2__. __Create a child class car from the vehicle class created in Que 1, which will inherit the vehicle class.\n",
    "Create a method named seating_capacity which takes capacity as an argument and returns the name of\n",
    "the vehicle and its seating capacity___\n",
    "\n"
   ]
  },
  {
   "cell_type": "code",
   "execution_count": 44,
   "id": "f41483a3",
   "metadata": {},
   "outputs": [
    {
     "name": "stdout",
     "output_type": "stream",
     "text": [
      "fortuner has a seating capacity of 5 passengers.\n"
     ]
    }
   ],
   "source": [
    "class car(vehicle):\n",
    "    def __init__(self,name_of_vehicle,max_speed,average_of_vehicle):\n",
    "        super().__init__(name_of_vehicle,max_speed,average_of_vehicle)\n",
    "    \n",
    "    \n",
    "    def seating_capacity(self,capacity):\n",
    "        return f\"{self.name_of_vehicle} has a seating capacity of {capacity} passengers.\"\n",
    "    \n",
    "\n",
    "#create an instance of the car class\n",
    "car1 = car(\"fortuner\",200,45)\n",
    "\n",
    "\n",
    "\n",
    "#call the seating_capacity methode\n",
    "capacity = 5\n",
    "result = car1.seating_capacity(capacity)\n",
    "\n",
    "\n",
    "print(result)"
   ]
  },
  {
   "cell_type": "markdown",
   "id": "ca866928",
   "metadata": {},
   "source": [
    "\n",
    "Q3. ___What is multiple inheritance? Write a python code to demonstrate multiple inheritance___."
   ]
  },
  {
   "cell_type": "markdown",
   "id": "457285d3",
   "metadata": {},
   "source": [
    "ANS:--- __lets suppose you have a class1 and class2 value and if your class1 and \n",
    "class2 property access in class3 then that is called multiple inheritance__"
   ]
  },
  {
   "cell_type": "code",
   "execution_count": 45,
   "id": "0a979607",
   "metadata": {},
   "outputs": [],
   "source": [
    "class lab1:\n",
    "    def test_lab1(self):\n",
    "        return \"this is flask lab\""
   ]
  },
  {
   "cell_type": "code",
   "execution_count": 46,
   "id": "9b8aafd0",
   "metadata": {},
   "outputs": [],
   "source": [
    "class lab2:\n",
    "    def test_lab2(self):\n",
    "         return \"this is a jupyter lab\""
   ]
  },
  {
   "cell_type": "code",
   "execution_count": 47,
   "id": "b2de5f6e",
   "metadata": {},
   "outputs": [],
   "source": [
    "class lab3(lab1,lab2):\n",
    "    pass"
   ]
  },
  {
   "cell_type": "code",
   "execution_count": 48,
   "id": "288a49f2",
   "metadata": {},
   "outputs": [],
   "source": [
    "obj_lab3 = lab3()"
   ]
  },
  {
   "cell_type": "code",
   "execution_count": 49,
   "id": "7a52c52d",
   "metadata": {},
   "outputs": [
    {
     "data": {
      "text/plain": [
       "'this is a jupyter lab'"
      ]
     },
     "execution_count": 49,
     "metadata": {},
     "output_type": "execute_result"
    }
   ],
   "source": [
    "obj_lab3.test_lab2()"
   ]
  },
  {
   "cell_type": "code",
   "execution_count": 50,
   "id": "e0f7e879",
   "metadata": {},
   "outputs": [
    {
     "data": {
      "text/plain": [
       "'this is flask lab'"
      ]
     },
     "execution_count": 50,
     "metadata": {},
     "output_type": "execute_result"
    }
   ],
   "source": [
    "obj_lab3.test_lab1()"
   ]
  },
  {
   "cell_type": "markdown",
   "id": "03d645a7",
   "metadata": {},
   "source": [
    "# Q4. What are getter and setter in python? Create a class and create a getter and a setter method in this class.\n"
   ]
  },
  {
   "cell_type": "markdown",
   "id": "b3b78f08",
   "metadata": {},
   "source": [
    "__Getter function: __These are the methods used in object-oriented programming system which helps to access the private attributes from a class___\n",
    "    \n",
    "    \n",
    "    \n",
    "__Setter function: __These are the methods used in object oriented programming system feature which helps to set the value to private attributes in a class__."
   ]
  },
  {
   "cell_type": "code",
   "execution_count": 51,
   "id": "ddc657f8",
   "metadata": {},
   "outputs": [
    {
     "name": "stdout",
     "output_type": "stream",
     "text": [
      "3.8\n",
      "4.0\n",
      "120\n",
      "130\n",
      "True\n",
      "False\n"
     ]
    }
   ],
   "source": [
    "class Student:\n",
    "    def __init__(self, cgpa, iq, placement):\n",
    "        self._cgpa = cgpa\n",
    "        self._iq = iq\n",
    "        self._placement = placement\n",
    "    \n",
    "    def get_cgpa(self):\n",
    "        return self._cgpa\n",
    "    \n",
    "    def set_cgpa(self, value):\n",
    "        self._cgpa = value\n",
    "    \n",
    "    def get_iq(self):\n",
    "        return self._iq\n",
    "    \n",
    "    def set_iq(self, value):\n",
    "        self._iq = value\n",
    "    \n",
    "    def get_placement(self):\n",
    "        return self._placement\n",
    "    \n",
    "    def set_placement(self, value):\n",
    "        self._placement = value\n",
    "student1 = Student(3.8, 120, True)\n",
    "\n",
    "cgpa = student1.get_cgpa()\n",
    "print(cgpa)  # Output: 3.8\n",
    "\n",
    "student1.set_cgpa(4.0)\n",
    "cgpa = student1.get_cgpa()\n",
    "print(cgpa)  # Output: 4.0\n",
    "\n",
    "iq = student1.get_iq()\n",
    "print(iq)  # Output: 120\n",
    "\n",
    "student1.set_iq(130)\n",
    "iq = student1.get_iq()\n",
    "print(iq)  # Output: 130\n",
    "\n",
    "placement = student1.get_placement()\n",
    "print(placement)  # Output: True\n",
    "\n",
    "student1.set_placement(False)\n",
    "placement = student1.get_placement()\n",
    "print(placement)  # Output: False"
   ]
  },
  {
   "cell_type": "markdown",
   "id": "b5901554",
   "metadata": {},
   "source": [
    "# Another example"
   ]
  },
  {
   "cell_type": "code",
   "execution_count": 35,
   "id": "43cb7a6f",
   "metadata": {},
   "outputs": [
    {
     "name": "stdout",
     "output_type": "stream",
     "text": [
      "22\n",
      "22\n"
     ]
    }
   ],
   "source": [
    "class Pwskills:   \n",
    "    def __init__(self, age = 0):   \n",
    "         self._age = age   \n",
    "      # using the getter method   \n",
    "    def get_age(self):   \n",
    "        return self._age   \n",
    "      # using the setter method   \n",
    "    def set_age(self, a):   \n",
    "        self._age = a   \n",
    "    \n",
    "sam = Pwskills()   \n",
    "    \n",
    "#using the setter function  \n",
    "sam.set_age(22)   \n",
    "    \n",
    "# using the getter function  \n",
    "print(sam.get_age())   \n",
    "    \n",
    "print(sam._age) "
   ]
  },
  {
   "cell_type": "markdown",
   "id": "7ef4db78",
   "metadata": {},
   "source": [
    "__Q5. What is method overriding in python? Write a python code to demonstrate method overriding__."
   ]
  },
  {
   "cell_type": "code",
   "execution_count": 36,
   "id": "219930b7",
   "metadata": {},
   "outputs": [
    {
     "name": "stdout",
     "output_type": "stream",
     "text": [
      "method belongs to class A\n"
     ]
    }
   ],
   "source": [
    "\"\"\"Method overriding is an ability of any object-oriented programming language \n",
    " that allows a subclass or child class to provide a\n",
    " specific implementation of a method\"\"\"\n",
    "\n",
    "\n",
    "# here an example of overridding\n",
    "\n",
    "\n",
    "class A:\n",
    "    def display(self):\n",
    "        print(\"method belongs to class A\")\n",
    "        \n",
    "        \n",
    "class B(A):\n",
    "    pass\n",
    "b1 =B()\n",
    "b1.display()\n",
    "        "
   ]
  },
  {
   "cell_type": "code",
   "execution_count": null,
   "id": "f03f187a",
   "metadata": {},
   "outputs": [],
   "source": []
  },
  {
   "cell_type": "code",
   "execution_count": 37,
   "id": "7c4740b2",
   "metadata": {},
   "outputs": [
    {
     "name": "stdout",
     "output_type": "stream",
     "text": [
      "Total Working Hrs :  50\n",
      "Total Working Hrs :  60\n",
      "Total Working Hrs :  50\n"
     ]
    }
   ],
   "source": [
    "# Function Overriding\n",
    "class Employee:\n",
    "    def WorkingHrs(self):\n",
    "        self.hrs = 50\n",
    " \n",
    "    def printHrs(self):\n",
    "        print(\"Total Working Hrs : \", self.hrs)\n",
    " \n",
    " \n",
    "class Trainee(Employee):\n",
    "    def WorkingHrs(self):\n",
    "        self.hrs = 60\n",
    " \n",
    "    def resetHrs(self):\n",
    "        super().WorkingHrs()\n",
    " \n",
    " \n",
    "employee = Employee()\n",
    "employee.WorkingHrs()\n",
    "employee.printHrs()\n",
    " \n",
    "trainee=Trainee()\n",
    "trainee.WorkingHrs()\n",
    "trainee.printHrs()\n",
    "# Reset Trainee Hrs\n",
    "trainee.resetHrs()\n",
    "trainee.printHrs()"
   ]
  },
  {
   "cell_type": "code",
   "execution_count": 38,
   "id": "9cfb7413",
   "metadata": {},
   "outputs": [
    {
     "name": "stdout",
     "output_type": "stream",
     "text": [
      "Inside Parent\n",
      "Inside Child\n"
     ]
    }
   ],
   "source": [
    "# Python program to demonstrate \n",
    "# method overriding\n",
    "  \n",
    "  \n",
    "# Defining parent class\n",
    "class Parent():\n",
    "      \n",
    "    # Constructor\n",
    "    def __init__(self):\n",
    "        self.value = \"Inside Parent\"\n",
    "          \n",
    "    # Parent's show method\n",
    "    def show(self):\n",
    "        print(self.value)\n",
    "          \n",
    "# Defining child class\n",
    "class Child(Parent):\n",
    "      \n",
    "    # Constructor\n",
    "    def __init__(self):\n",
    "        self.value = \"Inside Child\"\n",
    "          \n",
    "    # Child's show method\n",
    "    def show(self):\n",
    "        print(self.value)\n",
    "          \n",
    "          \n",
    "# Driver's code\n",
    "obj1 = Parent()\n",
    "obj2 = Child()\n",
    "  \n",
    "obj1.show()\n",
    "obj2.show()"
   ]
  },
  {
   "cell_type": "code",
   "execution_count": null,
   "id": "27583cc4",
   "metadata": {},
   "outputs": [],
   "source": []
  }
 ],
 "metadata": {
  "kernelspec": {
   "display_name": "Python 3 (ipykernel)",
   "language": "python",
   "name": "python3"
  },
  "language_info": {
   "codemirror_mode": {
    "name": "ipython",
    "version": 3
   },
   "file_extension": ".py",
   "mimetype": "text/x-python",
   "name": "python",
   "nbconvert_exporter": "python",
   "pygments_lexer": "ipython3",
   "version": "3.9.12"
  }
 },
 "nbformat": 4,
 "nbformat_minor": 5
}
